{
 "metadata": {
  "language_info": {
   "codemirror_mode": {
    "name": "ipython",
    "version": 3
   },
   "file_extension": ".py",
   "mimetype": "text/x-python",
   "name": "python",
   "nbconvert_exporter": "python",
   "pygments_lexer": "ipython3",
   "version": "3.8.5-final"
  },
  "orig_nbformat": 2,
  "kernelspec": {
   "name": "python38564bit9fbd2e937d764261b327c82e12fdb6fd",
   "display_name": "Python 3.8.5 64-bit"
  }
 },
 "nbformat": 4,
 "nbformat_minor": 2,
 "cells": [
  {
   "cell_type": "code",
   "execution_count": 21,
   "metadata": {},
   "outputs": [],
   "source": [
    "from starter_code_for_reading_input_data.starter_code.wsj_loader import WSJ"
   ]
  },
  {
   "cell_type": "code",
   "execution_count": 3,
   "metadata": {},
   "outputs": [],
   "source": [
    "import numpy as np\n",
    "import pandas as pd\n",
    "import seaborn as sns"
   ]
  },
  {
   "cell_type": "code",
   "execution_count": 4,
   "metadata": {},
   "outputs": [],
   "source": [
    "loader = WSJ()"
   ]
  },
  {
   "cell_type": "code",
   "execution_count": 5,
   "metadata": {},
   "outputs": [],
   "source": [
    "loader = WSJ()"
   ]
  },
  {
   "cell_type": "code",
   "execution_count": 13,
   "metadata": {},
   "outputs": [
    {
     "output_type": "execute_result",
     "data": {
      "text/plain": [
       "(1103,)"
      ]
     },
     "metadata": {},
     "execution_count": 13
    }
   ],
   "source": [
    "X.shape"
   ]
  },
  {
   "cell_type": "code",
   "execution_count": 15,
   "metadata": {},
   "outputs": [
    {
     "output_type": "execute_result",
     "data": {
      "text/plain": [
       "(1103,)"
      ]
     },
     "metadata": {},
     "execution_count": 15
    }
   ],
   "source": [
    "y.shape"
   ]
  },
  {
   "cell_type": "code",
   "execution_count": 16,
   "metadata": {},
   "outputs": [
    {
     "output_type": "execute_result",
     "data": {
      "text/plain": [
       "(388,)"
      ]
     },
     "metadata": {},
     "execution_count": 16
    }
   ],
   "source": [
    "y[0].shape"
   ]
  },
  {
   "cell_type": "code",
   "execution_count": 153,
   "metadata": {},
   "outputs": [],
   "source": [
    "class NeuralNet():\n",
    "\n",
    "    def __init__(self):\n",
    "\n",
    "        self.parameters = None\n",
    "        self.L = None\n",
    "        self.A1 = None\n",
    "        self.Z = None\n",
    "\n",
    "\n",
    "\n",
    "    # Inializing parameters \n",
    "    def initialize_para(self, layer_dim):\n",
    "\n",
    "\n",
    "        \"\"\" \n",
    "        Arguments:\n",
    "        layer_dim : list containing dimensions of each layer \n",
    "        \n",
    "        Returns:\n",
    "        parameters: dictionary containing weights for each layer\n",
    "        \"\"\"\n",
    "\n",
    "        np.random.seed(10)\n",
    "\n",
    "        self.parameters = {}\n",
    "        self.L = len(layer_dim)\n",
    "        \n",
    "        # creatinig random weights for each layer\n",
    "        for l in range(1, self.L):\n",
    "            self.parameters[\"W\"+str(l)] = np.random.randn(layer_dim[l], layer_dim[l-1]+1)*0.01\n",
    "            # multiplying with 0.01 to keep weights low\n",
    "    \n",
    "        return self.parameters\n",
    "\n",
    "\n",
    "    def single_forward_prop(self, A, W):\n",
    "        \"\"\"\n",
    "        Arguments:\n",
    "        A : Activations/inputs from previous layer\n",
    "        W : weights for this particular hidden layer\n",
    "\n",
    "        Returns:\n",
    "        z : inputs for the next activation function\n",
    "        \"\"\"\n",
    "         \n",
    "        self.A1 = np.concatenate(([1], A), axis=0)\n",
    "        self.Z = np.dot(W, self.A1.T)\n",
    "\n",
    "        return self.Z\n",
    "\n",
    "\n",
    "    def single_activation_forward(self, A_prev, W, activation):\n",
    "\n",
    "        self.Z = self.single_forward_prop(A_prev, W)\n",
    "\n",
    "        # for sigmoid activation\n",
    "        if activation == \"sigmoid\":\n",
    "            self.A = 1/(1+np.exp(-self.Z)) \n",
    "         \n",
    "\n",
    "        # for relu activation\n",
    "        elif activation == \"relu\":\n",
    "            self.A = np.maximum(0, self.Z)\n",
    "            assert(A.shape == self.Z.shape)\n",
    "\n",
    "\n",
    "        # for tanh activation \n",
    "        elif activation == \"tanh\":\n",
    "            self.A = (np.exp(self.Z)-np.exp(-self.Z))/(np.exp(self.Z)+np.exp(-self.Z))\n",
    "\n",
    "\n",
    "        return self.A\n"
   ]
  },
  {
   "cell_type": "code",
   "execution_count": 154,
   "metadata": {},
   "outputs": [
    {
     "output_type": "execute_result",
     "data": {
      "text/plain": [
       "array([ 1.00000000e+00, -2.77605915e+00, -1.06537542e+01, -9.39956951e+00,\n",
       "       -1.01375580e-02, -8.18525314e+00, -2.07609901e+01, -1.52976494e+01,\n",
       "       -2.93809967e+01, -3.73934135e+01, -2.62839699e+01, -4.26705170e+01,\n",
       "       -2.20472641e+01, -1.71820831e+01, -1.58334255e+00, -2.82403421e+00,\n",
       "       -4.57401371e+00, -2.99919939e+00, -2.17327547e+00, -2.73924732e+00,\n",
       "       -1.06188917e+00, -1.53447104e+00, -6.87636375e-01, -2.67269611e+00,\n",
       "       -1.67127037e+00, -1.48908615e+00, -8.12202930e-01, -5.70705891e-01,\n",
       "       -8.22215557e-01, -9.71503735e-01, -3.02924156e-01, -4.80173111e-01,\n",
       "       -7.18064308e-01, -1.05712700e+00, -1.57896519e-01, -8.74900818e-02,\n",
       "       -2.37556458e-01,  1.35851860e-01,  2.36355305e-01, -5.80593109e-01,\n",
       "       -8.17158699e-01])"
      ]
     },
     "metadata": {},
     "execution_count": 154
    }
   ],
   "source": [
    "np.concatenate(([1], X[0][0]), axis=0)"
   ]
  },
  {
   "cell_type": "code",
   "execution_count": 155,
   "metadata": {},
   "outputs": [],
   "source": [
    "nn = NeuralNet()"
   ]
  },
  {
   "cell_type": "code",
   "execution_count": 156,
   "metadata": {},
   "outputs": [],
   "source": [
    "para = nn.initialize_para([40,20,10])"
   ]
  },
  {
   "cell_type": "code",
   "execution_count": 157,
   "metadata": {},
   "outputs": [],
   "source": [
    "z = nn.single_forward_prop(X[0][0], para[\"W1\"])"
   ]
  },
  {
   "cell_type": "code",
   "execution_count": 158,
   "metadata": {},
   "outputs": [
    {
     "output_type": "execute_result",
     "data": {
      "text/plain": [
       "array([-0.4202499 , -0.20602516,  0.10836536,  0.3580392 , -0.00441877,\n",
       "        0.31487566, -0.55898538, -0.56290286, -0.62026683,  0.63882793,\n",
       "       -0.31193157,  0.05880023, -0.91118284, -0.71227552, -0.72184054,\n",
       "       -0.69482678,  0.78380848,  0.76264104, -0.86380065,  1.18830997])"
      ]
     },
     "metadata": {},
     "execution_count": 158
    }
   ],
   "source": [
    "z"
   ]
  },
  {
   "cell_type": "code",
   "execution_count": 165,
   "metadata": {},
   "outputs": [],
   "source": [
    "A = nn.single_activation_forward(X[0][0], para[\"W1\"], \"relu\")"
   ]
  },
  {
   "cell_type": "code",
   "execution_count": 166,
   "metadata": {},
   "outputs": [
    {
     "output_type": "execute_result",
     "data": {
      "text/plain": [
       "array([0.        , 0.        , 0.10836536, 0.3580392 , 0.        ,\n",
       "       0.31487566, 0.        , 0.        , 0.        , 0.63882793,\n",
       "       0.        , 0.05880023, 0.        , 0.        , 0.        ,\n",
       "       0.        , 0.78380848, 0.76264104, 0.        , 1.18830997])"
      ]
     },
     "metadata": {},
     "execution_count": 166
    }
   ],
   "source": [
    "A"
   ]
  },
  {
   "cell_type": "code",
   "execution_count": 161,
   "metadata": {},
   "outputs": [],
   "source": [
    "A = nn.single_activation_forward(X[0][0], para[\"W1\"], \"tanh\")"
   ]
  },
  {
   "cell_type": "code",
   "execution_count": 162,
   "metadata": {},
   "outputs": [
    {
     "output_type": "execute_result",
     "data": {
      "text/plain": [
       "array([-0.39714094, -0.20315881,  0.10794317,  0.34348574, -0.00441874,\n",
       "        0.30486614, -0.50722424, -0.51012806, -0.55131378,  0.56410097,\n",
       "       -0.3021933 ,  0.05873255, -0.72169949, -0.61210177, -0.61804808,\n",
       "       -0.60107386,  0.65488724,  0.64262996, -0.69821069,  0.83005399])"
      ]
     },
     "metadata": {},
     "execution_count": 162
    }
   ],
   "source": [
    "A"
   ]
  },
  {
   "cell_type": "code",
   "execution_count": null,
   "metadata": {},
   "outputs": [],
   "source": []
  }
 ]
}